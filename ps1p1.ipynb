{
 "cells": [
  {
   "cell_type": "code",
   "execution_count": 1,
   "id": "increased-repair",
   "metadata": {},
   "outputs": [],
   "source": [
    "import pandas as pd\n",
    "import numpy as np\n",
    "import statsmodels.api as sm"
   ]
  },
  {
   "cell_type": "code",
   "execution_count": 2,
   "id": "utility-jenny",
   "metadata": {},
   "outputs": [],
   "source": [
    "df = pd.read_csv(\"ps1_data.csv\")"
   ]
  },
  {
   "cell_type": "code",
   "execution_count": 3,
   "id": "adapted-cancer",
   "metadata": {},
   "outputs": [],
   "source": [
    "log_df = df.apply(np.log)\n",
    "non_gdp_variables = df.columns.values[1:]"
   ]
  },
  {
   "cell_type": "code",
   "execution_count": 4,
   "id": "clear-study",
   "metadata": {},
   "outputs": [],
   "source": [
    "for variable in df.columns:\n",
    "    cycle, trend = sm.tsa.filters.hpfilter(log_df[variable], 1600)\n",
    "    df[variable+\"_log_detrended\"] = cycle"
   ]
  },
  {
   "cell_type": "code",
   "execution_count": 5,
   "id": "increasing-diploma",
   "metadata": {},
   "outputs": [
    {
     "name": "stdout",
     "output_type": "stream",
     "text": [
      "Standard deviations of log deviations from HP trend divided by stdev of log deviations from HP trend of GDP\n",
      "c: 0.7994548307042801\n",
      "investment: 0.8196891988200209\n",
      "fixed_i: 0.7805977398114805\n",
      "nonresidential: 0.7613829445704255\n",
      "structures: 0.4493252674918443\n",
      "equipment: 0.7873124011728168\n",
      "intellectual: 0.39384705636011613\n",
      "residential: 0.49850645607982313\n"
     ]
    }
   ],
   "source": [
    "print(\"Standard deviations of log deviations from HP trend divided by stdev of log deviations from HP trend of GDP\")\n",
    "for var in non_gdp_variables:\n",
    "    print(var + \":\", np.corrcoef(df[var + \"_log_detrended\"].values, df[\"gdp_log_detrended\"].values)[0,1])"
   ]
  },
  {
   "cell_type": "code",
   "execution_count": 6,
   "id": "exposed-message",
   "metadata": {},
   "outputs": [
    {
     "name": "stdout",
     "output_type": "stream",
     "text": [
      "c: 0.8200663903265136\n",
      "investment: 4.339898723396876\n",
      "fixed_i: 2.8248619035411626\n",
      "nonresidential: 2.7025348313670996\n",
      "structures: 3.5005036236792684\n",
      "equipment: 3.640563945410523\n",
      "intellectual: 1.7725296585930033\n",
      "residential: 5.659347603560479\n"
     ]
    }
   ],
   "source": [
    "for var in non_gdp_variables:\n",
    "    print(var + \":\", np.std(df[var + \"_log_detrended\"].values)/ np.std(df[\"gdp_log_detrended\"].values))"
   ]
  },
  {
   "cell_type": "code",
   "execution_count": 7,
   "id": "nuclear-manor",
   "metadata": {},
   "outputs": [],
   "source": [
    "log_changes = log_df.iloc[1:,:] - log_df.iloc[:-1,:]"
   ]
  },
  {
   "cell_type": "code",
   "execution_count": 8,
   "id": "friendly-burning",
   "metadata": {},
   "outputs": [],
   "source": [
    "log_changes = (log_df - log_df.shift(1)).iloc[1:]"
   ]
  },
  {
   "cell_type": "code",
   "execution_count": 9,
   "id": "responsible-soundtrack",
   "metadata": {},
   "outputs": [
    {
     "name": "stdout",
     "output_type": "stream",
     "text": [
      "Standard deviations of log changes\n",
      "gdp: 0.011639104183809167\n",
      "c: 0.011211073959360015\n",
      "investment: 0.04905747389245888\n",
      "fixed_i: 0.02463791624509999\n",
      "nonresidential: 0.024079145619628792\n",
      "structures: 0.0303293944840768\n",
      "equipment: 0.03585940318318789\n",
      "intellectual: 0.01520581839771591\n",
      "residential: 0.04877407623609008\n"
     ]
    }
   ],
   "source": [
    "print(\"Standard deviations of log changes\")\n",
    "for var in log_changes.columns:\n",
    "    print(var + \":\", np.std(log_changes[var].values))"
   ]
  },
  {
   "cell_type": "code",
   "execution_count": 10,
   "id": "scientific-chaos",
   "metadata": {},
   "outputs": [
    {
     "name": "stdout",
     "output_type": "stream",
     "text": [
      "Persistence in log deviations from HP trend\n",
      "gdp: 0.7803790326799854\n",
      "c: 0.6944659059051425\n",
      "investment: 0.7834686365067027\n",
      "fixed_i: 0.8814358060500183\n",
      "nonresidential: 0.8761257623322959\n",
      "structures: 0.8848553081589611\n",
      "equipment: 0.8434609051007118\n",
      "intellectual: 0.9005526493078958\n",
      "residential: 0.8873130506573706\n"
     ]
    }
   ],
   "source": [
    "print(\"Persistence in log deviations from HP trend\")\n",
    "for var in log_changes.columns:\n",
    "    print(var + \":\", np.corrcoef(df[var + \"_log_detrended\"].values[1:], df[var + \"_log_detrended\"].shift(1).values[1:])[0,1])"
   ]
  },
  {
   "cell_type": "code",
   "execution_count": 11,
   "id": "fluid-visibility",
   "metadata": {},
   "outputs": [
    {
     "name": "stdout",
     "output_type": "stream",
     "text": [
      "Persistence in log changes\n",
      "gdp: 0.11720945433597764\n",
      "c: -0.11229356395047572\n",
      "investment: 0.18148167090046935\n",
      "fixed_i: 0.47100928509215984\n",
      "nonresidential: 0.4241260259306525\n",
      "structures: 0.42846337913242133\n",
      "equipment: 0.30411904161649\n",
      "intellectual: 0.624509669904199\n",
      "residential: 0.48523603097157236\n"
     ]
    }
   ],
   "source": [
    "print(\"Persistence in log changes\")\n",
    "for var in log_changes.columns:\n",
    "    print(var + \":\", np.corrcoef(log_changes[var].values[1:], log_changes[var].shift(1).values[1:])[0,1])"
   ]
  },
  {
   "cell_type": "code",
   "execution_count": null,
   "id": "hawaiian-strength",
   "metadata": {},
   "outputs": [],
   "source": []
  }
 ],
 "metadata": {
  "kernelspec": {
   "display_name": "Python 3",
   "language": "python",
   "name": "python3"
  },
  "language_info": {
   "codemirror_mode": {
    "name": "ipython",
    "version": 3
   },
   "file_extension": ".py",
   "mimetype": "text/x-python",
   "name": "python",
   "nbconvert_exporter": "python",
   "pygments_lexer": "ipython3",
   "version": "3.9.0"
  }
 },
 "nbformat": 4,
 "nbformat_minor": 5
}
